{
 "cells": [
  {
   "cell_type": "markdown",
   "metadata": {
    "papermill": {
     "duration": 0.007493,
     "end_time": "2023-10-15T08:05:36.622782",
     "exception": false,
     "start_time": "2023-10-15T08:05:36.615289",
     "status": "completed"
    },
    "tags": []
   },
   "source": [
    "## Converting MP3 to WAV\n",
    "\n",
    "Converting MP3 to WAV for ASR\n",
    "To facilitate the use of the Automatic Speech Recognition (ASR) models, such as Whisper and FineTune, it is essential to convert the audio files in the MP3 format to the WAV format. This conversion is necessary to ensure compatibility with the ASR models and it is used  streamline the following notebook."
   ]
  },
  {
   "cell_type": "code",
   "execution_count": 1,
   "metadata": {
    "_cell_guid": "b1076dfc-b9ad-4769-8c92-a6c4dae69d19",
    "_uuid": "8f2839f25d086af736a60e9eeb907d3b93b6e0e5",
    "execution": {
     "iopub.execute_input": "2023-10-15T08:05:36.640165Z",
     "iopub.status.busy": "2023-10-15T08:05:36.639502Z",
     "iopub.status.idle": "2023-10-15T08:05:37.163295Z",
     "shell.execute_reply": "2023-10-15T08:05:37.162786Z",
     "shell.execute_reply.started": "2023-10-06T10:35:47.275862Z"
    },
    "papermill": {
     "duration": 0.534421,
     "end_time": "2023-10-15T08:05:37.163416",
     "exception": false,
     "start_time": "2023-10-15T08:05:36.628995",
     "status": "completed"
    },
    "tags": []
   },
   "outputs": [],
   "source": [
    "import os\n",
    "import cv2\n",
    "import skimage.io\n",
    "from tqdm.notebook import tqdm\n",
    "import zipfile\n",
    "import pandas as pd\n",
    "import numpy as np\n",
    "import shutil\n",
    "\n",
    "from pydub import AudioSegment\n",
    "from joblib import Parallel, delayed"
   ]
  },
  {
   "cell_type": "code",
   "execution_count": 2,
   "metadata": {
    "execution": {
     "iopub.execute_input": "2023-10-15T08:05:37.180893Z",
     "iopub.status.busy": "2023-10-15T08:05:37.180283Z",
     "iopub.status.idle": "2023-10-15T08:05:38.149253Z",
     "shell.execute_reply": "2023-10-15T08:05:38.147861Z",
     "shell.execute_reply.started": "2023-10-06T10:35:48.906552Z"
    },
    "papermill": {
     "duration": 0.97964,
     "end_time": "2023-10-15T08:05:38.149367",
     "exception": false,
     "start_time": "2023-10-15T08:05:37.169727",
     "status": "completed"
    },
    "tags": []
   },
   "outputs": [],
   "source": [
    "!mkdir -p /tmp/CV15_ASR_dataset"
   ]
  },
  {
   "cell_type": "code",
   "execution_count": 3,
   "metadata": {
    "execution": {
     "iopub.execute_input": "2023-10-15T08:05:38.167135Z",
     "iopub.status.busy": "2023-10-15T08:05:38.166098Z",
     "iopub.status.idle": "2023-10-15T08:05:39.143335Z",
     "shell.execute_reply": "2023-10-15T08:05:39.142622Z",
     "shell.execute_reply.started": "2023-10-06T10:35:51.703715Z"
    },
    "papermill": {
     "duration": 0.987957,
     "end_time": "2023-10-15T08:05:39.143452",
     "exception": false,
     "start_time": "2023-10-15T08:05:38.155495",
     "status": "completed"
    },
    "tags": []
   },
   "outputs": [
    {
     "name": "stdout",
     "output_type": "stream",
     "text": [
      "CV15_ASR_dataset    npm-10114-3357dbb4\tnpm-10341-d9b08525\r\n",
      "clean-layer.sh\t    npm-10157-7ab28c3e\ttmpmjovb0ur.json\r\n",
      "conda\t\t    npm-10168-cda3f34b\tv8-compile-cache-0\r\n",
      "core-js-banners     npm-10179-10669343\tyarn--1587582922338-0.21814450721061052\r\n",
      "hsperfdata_root     npm-10190-c9f9676b\tyarn--1587582922338-0.509163553407652\r\n",
      "kaggle.log\t    npm-10233-2e7f8d94\tyarn--1587582923660-0.03690515600338906\r\n",
      "npm-10049-ecd2e497  npm-10244-9748b634\tyarn--1587582934443-0.8113961991379441\r\n",
      "npm-10092-825f72aa  npm-10255-9c25895f\r\n",
      "npm-10103-119ee48d  npm-10298-bcff1aeb\r\n"
     ]
    }
   ],
   "source": [
    "!ls /tmp"
   ]
  },
  {
   "cell_type": "code",
   "execution_count": 4,
   "metadata": {
    "execution": {
     "iopub.execute_input": "2023-10-15T08:05:39.161689Z",
     "iopub.status.busy": "2023-10-15T08:05:39.161168Z",
     "iopub.status.idle": "2023-10-15T08:05:39.164075Z",
     "shell.execute_reply": "2023-10-15T08:05:39.163583Z",
     "shell.execute_reply.started": "2023-10-06T10:35:57.374477Z"
    },
    "papermill": {
     "duration": 0.014209,
     "end_time": "2023-10-15T08:05:39.164200",
     "exception": false,
     "start_time": "2023-10-15T08:05:39.149991",
     "status": "completed"
    },
    "tags": []
   },
   "outputs": [],
   "source": [
    "data = '''{\n",
    "  \"title\": \"ASR_CV15_Hindi_wav_16000\",\n",
    "  \"id\": \"kingabzpro/ASR_CV15_Hindi_wav_16000\",\n",
    "  \"licenses\": [\n",
    "    {\n",
    "      \"name\": \"CC0-1.0\"\n",
    "    }\n",
    "  ]\n",
    "}\n",
    "'''\n",
    "text_file = open(\"/tmp/CV15_ASR_dataset/dataset-metadata.json\", 'w+')\n",
    "n = text_file.write(data)\n",
    "text_file.close()"
   ]
  },
  {
   "cell_type": "code",
   "execution_count": 5,
   "metadata": {
    "execution": {
     "iopub.execute_input": "2023-10-15T08:05:39.179942Z",
     "iopub.status.busy": "2023-10-15T08:05:39.179329Z",
     "iopub.status.idle": "2023-10-15T08:05:39.182040Z",
     "shell.execute_reply": "2023-10-15T08:05:39.181674Z",
     "shell.execute_reply.started": "2023-10-06T10:36:01.055133Z"
    },
    "papermill": {
     "duration": 0.011803,
     "end_time": "2023-10-15T08:05:39.182149",
     "exception": false,
     "start_time": "2023-10-15T08:05:39.170346",
     "status": "completed"
    },
    "tags": []
   },
   "outputs": [],
   "source": [
    "ROOT_PATH = \"/kaggle/input/cv15-hindi/hi/hi/clips\"\n",
    "OUTPUT_DIR = \"/tmp/CV15_ASR_dataset/audio_wav_16000\""
   ]
  },
  {
   "cell_type": "code",
   "execution_count": 6,
   "metadata": {
    "execution": {
     "iopub.execute_input": "2023-10-15T08:05:39.198054Z",
     "iopub.status.busy": "2023-10-15T08:05:39.197502Z",
     "iopub.status.idle": "2023-10-15T08:05:39.200326Z",
     "shell.execute_reply": "2023-10-15T08:05:39.199898Z",
     "shell.execute_reply.started": "2023-10-06T10:36:03.449376Z"
    },
    "papermill": {
     "duration": 0.012078,
     "end_time": "2023-10-15T08:05:39.200413",
     "exception": false,
     "start_time": "2023-10-15T08:05:39.188335",
     "status": "completed"
    },
    "tags": []
   },
   "outputs": [],
   "source": [
    "os.mkdir(OUTPUT_DIR)"
   ]
  },
  {
   "cell_type": "markdown",
   "metadata": {
    "papermill": {
     "duration": 0.006116,
     "end_time": "2023-10-15T08:05:39.212617",
     "exception": false,
     "start_time": "2023-10-15T08:05:39.206501",
     "status": "completed"
    },
    "tags": []
   },
   "source": [
    "## Converting and Downsampling"
   ]
  },
  {
   "cell_type": "code",
   "execution_count": 7,
   "metadata": {
    "execution": {
     "iopub.execute_input": "2023-10-15T08:05:39.230197Z",
     "iopub.status.busy": "2023-10-15T08:05:39.229630Z",
     "iopub.status.idle": "2023-10-15T08:05:39.232006Z",
     "shell.execute_reply": "2023-10-15T08:05:39.232387Z",
     "shell.execute_reply.started": "2023-10-06T10:36:12.188011Z"
    },
    "papermill": {
     "duration": 0.013784,
     "end_time": "2023-10-15T08:05:39.232485",
     "exception": false,
     "start_time": "2023-10-15T08:05:39.218701",
     "status": "completed"
    },
    "tags": []
   },
   "outputs": [],
   "source": [
    "def save_fn(filename):\n",
    "    \n",
    "    path = f\"{ROOT_PATH}/{filename}\"\n",
    "    save_path = f\"{OUTPUT_DIR}\"\n",
    "    if not os.path.exists(save_path):\n",
    "        os.makedirs(save_path, exist_ok=True)\n",
    "    \n",
    "    if os.path.exists(path):\n",
    "        try:\n",
    "            sound = AudioSegment.from_mp3(path)\n",
    "            sound = sound.set_frame_rate(16000)\n",
    "            sound.export(f\"{save_path}/{filename[:-4]}.wav\", format=\"wav\")\n",
    "        except:\n",
    "            print(path)"
   ]
  },
  {
   "cell_type": "code",
   "execution_count": 8,
   "metadata": {
    "execution": {
     "iopub.execute_input": "2023-10-15T08:05:39.249335Z",
     "iopub.status.busy": "2023-10-15T08:05:39.248835Z",
     "iopub.status.idle": "2023-10-15T08:05:40.852982Z",
     "shell.execute_reply": "2023-10-15T08:05:40.851933Z",
     "shell.execute_reply.started": "2023-10-06T10:36:16.797555Z"
    },
    "papermill": {
     "duration": 1.612924,
     "end_time": "2023-10-15T08:05:40.853137",
     "exception": false,
     "start_time": "2023-10-15T08:05:39.240213",
     "status": "completed"
    },
    "tags": []
   },
   "outputs": [],
   "source": [
    "import os\n",
    "path = \"/kaggle/input/cv15-hindi/hi/hi/clips/\"\n",
    "audio_files = os.listdir(path)\n"
   ]
  },
  {
   "cell_type": "code",
   "execution_count": 9,
   "metadata": {
    "_kg_hide-output": true,
    "execution": {
     "iopub.execute_input": "2023-10-15T08:05:40.874518Z",
     "iopub.status.busy": "2023-10-15T08:05:40.873958Z",
     "iopub.status.idle": "2023-10-15T08:15:49.113987Z",
     "shell.execute_reply": "2023-10-15T08:15:49.113410Z",
     "shell.execute_reply.started": "2023-10-06T10:36:20.412491Z"
    },
    "papermill": {
     "duration": 608.252685,
     "end_time": "2023-10-15T08:15:49.114100",
     "exception": false,
     "start_time": "2023-10-15T08:05:40.861415",
     "status": "completed"
    },
    "tags": []
   },
   "outputs": [],
   "source": [
    "%%capture\n",
    "Parallel(n_jobs=8, backend=\"multiprocessing\")(\n",
    "    delayed(save_fn)(filename) for filename in tqdm(audio_files)\n",
    ")"
   ]
  },
  {
   "cell_type": "code",
   "execution_count": 10,
   "metadata": {
    "_kg_hide-output": true,
    "execution": {
     "iopub.execute_input": "2023-10-15T08:15:49.133569Z",
     "iopub.status.busy": "2023-10-15T08:15:49.132558Z",
     "iopub.status.idle": "2023-10-15T08:17:55.745138Z",
     "shell.execute_reply": "2023-10-15T08:17:55.744633Z",
     "shell.execute_reply.started": "2023-10-06T10:45:13.684679Z"
    },
    "papermill": {
     "duration": 126.624514,
     "end_time": "2023-10-15T08:17:55.745261",
     "exception": false,
     "start_time": "2023-10-15T08:15:49.120747",
     "status": "completed"
    },
    "tags": []
   },
   "outputs": [],
   "source": [
    "%%capture\n",
    "!zip -r \"./audio_wav_16000.zip\" \"/tmp/CV15_ASR_dataset/audio_wav_16000/\""
   ]
  }
 ],
 "metadata": {
  "kernelspec": {
   "display_name": "Python 3",
   "language": "python",
   "name": "python3"
  },
  "language_info": {
   "codemirror_mode": {
    "name": "ipython",
    "version": 3
   },
   "file_extension": ".py",
   "mimetype": "text/x-python",
   "name": "python",
   "nbconvert_exporter": "python",
   "pygments_lexer": "ipython3",
   "version": "3.7.6"
  },
  "papermill": {
   "duration": 747.635591,
   "end_time": "2023-10-15T08:17:55.858518",
   "environment_variables": {},
   "exception": null,
   "input_path": "__notebook__.ipynb",
   "output_path": "__notebook__.ipynb",
   "parameters": {},
   "start_time": "2023-10-15T08:05:28.222927",
   "version": "2.1.0"
  },
  "widgets": {
   "application/vnd.jupyter.widget-state+json": {
    "state": {
     "1e1ee1580fd04482b5842f2b7932fa6f": {
      "model_module": "@jupyter-widgets/controls",
      "model_module_version": "1.5.0",
      "model_name": "HTMLModel",
      "state": {
       "_dom_classes": [],
       "_model_module": "@jupyter-widgets/controls",
       "_model_module_version": "1.5.0",
       "_model_name": "HTMLModel",
       "_view_count": null,
       "_view_module": "@jupyter-widgets/controls",
       "_view_module_version": "1.5.0",
       "_view_name": "HTMLView",
       "description": "",
       "description_tooltip": null,
       "layout": "IPY_MODEL_dd27613fe5c143a6bbf5be37ac305e41",
       "placeholder": "​",
       "style": "IPY_MODEL_8c08b06359e84286b718322626a05aa0",
       "value": " 14697/14697 [10:07&lt;00:00, 24.19it/s]"
      }
     },
     "2ab6443b52f44015ab521a058fb3306f": {
      "model_module": "@jupyter-widgets/base",
      "model_module_version": "1.2.0",
      "model_name": "LayoutModel",
      "state": {
       "_model_module": "@jupyter-widgets/base",
       "_model_module_version": "1.2.0",
       "_model_name": "LayoutModel",
       "_view_count": null,
       "_view_module": "@jupyter-widgets/base",
       "_view_module_version": "1.2.0",
       "_view_name": "LayoutView",
       "align_content": null,
       "align_items": null,
       "align_self": null,
       "border": null,
       "bottom": null,
       "display": null,
       "flex": null,
       "flex_flow": null,
       "grid_area": null,
       "grid_auto_columns": null,
       "grid_auto_flow": null,
       "grid_auto_rows": null,
       "grid_column": null,
       "grid_gap": null,
       "grid_row": null,
       "grid_template_areas": null,
       "grid_template_columns": null,
       "grid_template_rows": null,
       "height": null,
       "justify_content": null,
       "justify_items": null,
       "left": null,
       "margin": null,
       "max_height": null,
       "max_width": null,
       "min_height": null,
       "min_width": null,
       "object_fit": null,
       "object_position": null,
       "order": null,
       "overflow": null,
       "overflow_x": null,
       "overflow_y": null,
       "padding": null,
       "right": null,
       "top": null,
       "visibility": null,
       "width": null
      }
     },
     "2fee49ade8c74c98ab9bd45afb163224": {
      "model_module": "@jupyter-widgets/controls",
      "model_module_version": "1.5.0",
      "model_name": "ProgressStyleModel",
      "state": {
       "_model_module": "@jupyter-widgets/controls",
       "_model_module_version": "1.5.0",
       "_model_name": "ProgressStyleModel",
       "_view_count": null,
       "_view_module": "@jupyter-widgets/base",
       "_view_module_version": "1.2.0",
       "_view_name": "StyleView",
       "bar_color": null,
       "description_width": "initial"
      }
     },
     "8c08b06359e84286b718322626a05aa0": {
      "model_module": "@jupyter-widgets/controls",
      "model_module_version": "1.5.0",
      "model_name": "DescriptionStyleModel",
      "state": {
       "_model_module": "@jupyter-widgets/controls",
       "_model_module_version": "1.5.0",
       "_model_name": "DescriptionStyleModel",
       "_view_count": null,
       "_view_module": "@jupyter-widgets/base",
       "_view_module_version": "1.2.0",
       "_view_name": "StyleView",
       "description_width": ""
      }
     },
     "b12660d2eb54434e8af0ccc5b36e28e0": {
      "model_module": "@jupyter-widgets/controls",
      "model_module_version": "1.5.0",
      "model_name": "HBoxModel",
      "state": {
       "_dom_classes": [],
       "_model_module": "@jupyter-widgets/controls",
       "_model_module_version": "1.5.0",
       "_model_name": "HBoxModel",
       "_view_count": null,
       "_view_module": "@jupyter-widgets/controls",
       "_view_module_version": "1.5.0",
       "_view_name": "HBoxView",
       "box_style": "",
       "children": [
        "IPY_MODEL_feb7c67fa6b144a8b5b4f1e3e0d533bc",
        "IPY_MODEL_1e1ee1580fd04482b5842f2b7932fa6f"
       ],
       "layout": "IPY_MODEL_d5e1aa1be13d4621ac0cf2c144818adc"
      }
     },
     "d5e1aa1be13d4621ac0cf2c144818adc": {
      "model_module": "@jupyter-widgets/base",
      "model_module_version": "1.2.0",
      "model_name": "LayoutModel",
      "state": {
       "_model_module": "@jupyter-widgets/base",
       "_model_module_version": "1.2.0",
       "_model_name": "LayoutModel",
       "_view_count": null,
       "_view_module": "@jupyter-widgets/base",
       "_view_module_version": "1.2.0",
       "_view_name": "LayoutView",
       "align_content": null,
       "align_items": null,
       "align_self": null,
       "border": null,
       "bottom": null,
       "display": null,
       "flex": null,
       "flex_flow": null,
       "grid_area": null,
       "grid_auto_columns": null,
       "grid_auto_flow": null,
       "grid_auto_rows": null,
       "grid_column": null,
       "grid_gap": null,
       "grid_row": null,
       "grid_template_areas": null,
       "grid_template_columns": null,
       "grid_template_rows": null,
       "height": null,
       "justify_content": null,
       "justify_items": null,
       "left": null,
       "margin": null,
       "max_height": null,
       "max_width": null,
       "min_height": null,
       "min_width": null,
       "object_fit": null,
       "object_position": null,
       "order": null,
       "overflow": null,
       "overflow_x": null,
       "overflow_y": null,
       "padding": null,
       "right": null,
       "top": null,
       "visibility": null,
       "width": null
      }
     },
     "dd27613fe5c143a6bbf5be37ac305e41": {
      "model_module": "@jupyter-widgets/base",
      "model_module_version": "1.2.0",
      "model_name": "LayoutModel",
      "state": {
       "_model_module": "@jupyter-widgets/base",
       "_model_module_version": "1.2.0",
       "_model_name": "LayoutModel",
       "_view_count": null,
       "_view_module": "@jupyter-widgets/base",
       "_view_module_version": "1.2.0",
       "_view_name": "LayoutView",
       "align_content": null,
       "align_items": null,
       "align_self": null,
       "border": null,
       "bottom": null,
       "display": null,
       "flex": null,
       "flex_flow": null,
       "grid_area": null,
       "grid_auto_columns": null,
       "grid_auto_flow": null,
       "grid_auto_rows": null,
       "grid_column": null,
       "grid_gap": null,
       "grid_row": null,
       "grid_template_areas": null,
       "grid_template_columns": null,
       "grid_template_rows": null,
       "height": null,
       "justify_content": null,
       "justify_items": null,
       "left": null,
       "margin": null,
       "max_height": null,
       "max_width": null,
       "min_height": null,
       "min_width": null,
       "object_fit": null,
       "object_position": null,
       "order": null,
       "overflow": null,
       "overflow_x": null,
       "overflow_y": null,
       "padding": null,
       "right": null,
       "top": null,
       "visibility": null,
       "width": null
      }
     },
     "feb7c67fa6b144a8b5b4f1e3e0d533bc": {
      "model_module": "@jupyter-widgets/controls",
      "model_module_version": "1.5.0",
      "model_name": "FloatProgressModel",
      "state": {
       "_dom_classes": [],
       "_model_module": "@jupyter-widgets/controls",
       "_model_module_version": "1.5.0",
       "_model_name": "FloatProgressModel",
       "_view_count": null,
       "_view_module": "@jupyter-widgets/controls",
       "_view_module_version": "1.5.0",
       "_view_name": "ProgressView",
       "bar_style": "success",
       "description": "100%",
       "description_tooltip": null,
       "layout": "IPY_MODEL_2ab6443b52f44015ab521a058fb3306f",
       "max": 14697.0,
       "min": 0.0,
       "orientation": "horizontal",
       "style": "IPY_MODEL_2fee49ade8c74c98ab9bd45afb163224",
       "value": 14697.0
      }
     }
    },
    "version_major": 2,
    "version_minor": 0
   }
  }
 },
 "nbformat": 4,
 "nbformat_minor": 4
}
