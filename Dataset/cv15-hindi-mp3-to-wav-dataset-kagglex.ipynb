{
 "cells": [
  {
   "cell_type": "markdown",
   "id": "93c05702",
   "metadata": {
    "papermill": {
     "duration": 0.003067,
     "end_time": "2023-10-18T11:20:15.692084",
     "exception": false,
     "start_time": "2023-10-18T11:20:15.689017",
     "status": "completed"
    },
    "tags": []
   },
   "source": [
    "# Converting MP3 to WAV\n",
    "![Mp3 to Wav](https://www.videoconverterfactory.com/tips/imgs-sns/mp3-to-wav.webp)\n",
    "\n",
    "\n",
    "To enable the effective utilization of our Automatic Speech Recognition (ASR) models, including Whisper and FineTune, it is crucial to convert the audio files from MP3 format to WAV format. This conversion is imperative because Kaggle does not support the MP3 audio format, making it necessary for seamless processing and analysis within the platform.\n"
   ]
  },
  {
   "cell_type": "markdown",
   "id": "cc91e86b",
   "metadata": {
    "papermill": {
     "duration": 0.002308,
     "end_time": "2023-10-18T11:20:15.697488",
     "exception": false,
     "start_time": "2023-10-18T11:20:15.695180",
     "status": "completed"
    },
    "tags": []
   },
   "source": [
    "# loading Libraries"
   ]
  },
  {
   "cell_type": "code",
   "execution_count": 1,
   "id": "51bd2175",
   "metadata": {
    "_cell_guid": "b1076dfc-b9ad-4769-8c92-a6c4dae69d19",
    "_uuid": "8f2839f25d086af736a60e9eeb907d3b93b6e0e5",
    "execution": {
     "iopub.execute_input": "2023-10-18T11:20:15.703770Z",
     "iopub.status.busy": "2023-10-18T11:20:15.703487Z",
     "iopub.status.idle": "2023-10-18T11:20:16.412914Z",
     "shell.execute_reply": "2023-10-18T11:20:16.412007Z"
    },
    "papermill": {
     "duration": 0.714815,
     "end_time": "2023-10-18T11:20:16.414751",
     "exception": false,
     "start_time": "2023-10-18T11:20:15.699936",
     "status": "completed"
    },
    "tags": []
   },
   "outputs": [
    {
     "name": "stderr",
     "output_type": "stream",
     "text": [
      "/opt/conda/lib/python3.10/site-packages/scipy/__init__.py:146: UserWarning: A NumPy version >=1.16.5 and <1.23.0 is required for this version of SciPy (detected version 1.23.5\n",
      "  warnings.warn(f\"A NumPy version >={np_minversion} and <{np_maxversion}\"\n"
     ]
    }
   ],
   "source": [
    "import os\n",
    "import skimage.io\n",
    "from tqdm.notebook import tqdm\n",
    "import zipfile\n",
    "import shutil\n",
    "from pydub import AudioSegment\n",
    "from joblib import Parallel, delayed"
   ]
  },
  {
   "cell_type": "code",
   "execution_count": 2,
   "id": "114e7d35",
   "metadata": {
    "execution": {
     "iopub.execute_input": "2023-10-18T11:20:16.421314Z",
     "iopub.status.busy": "2023-10-18T11:20:16.421005Z",
     "iopub.status.idle": "2023-10-18T11:20:17.365633Z",
     "shell.execute_reply": "2023-10-18T11:20:17.364569Z"
    },
    "papermill": {
     "duration": 0.949935,
     "end_time": "2023-10-18T11:20:17.367568",
     "exception": false,
     "start_time": "2023-10-18T11:20:16.417633",
     "status": "completed"
    },
    "tags": []
   },
   "outputs": [],
   "source": [
    "!mkdir -p /tmp/CV15_ASR_dataset"
   ]
  },
  {
   "cell_type": "code",
   "execution_count": 3,
   "id": "245a70bc",
   "metadata": {
    "execution": {
     "iopub.execute_input": "2023-10-18T11:20:17.374624Z",
     "iopub.status.busy": "2023-10-18T11:20:17.373952Z",
     "iopub.status.idle": "2023-10-18T11:20:18.355528Z",
     "shell.execute_reply": "2023-10-18T11:20:18.354692Z"
    },
    "papermill": {
     "duration": 0.987183,
     "end_time": "2023-10-18T11:20:18.357558",
     "exception": false,
     "start_time": "2023-10-18T11:20:17.370375",
     "status": "completed"
    },
    "tags": []
   },
   "outputs": [
    {
     "name": "stdout",
     "output_type": "stream",
     "text": [
      "CV15_ASR_dataset  tmptc1ro1my.json\r\n",
      "clean-layer.sh\t  v8-compile-cache-0\r\n",
      "conda\t\t  yarn--1687755480762-0.013045315151684056\r\n",
      "core-js-banners   yarn--1687755481914-0.6939425404263324\r\n",
      "hsperfdata_root   yarn--1687755488161-0.8879838407104355\r\n",
      "kaggle.log\t  yarn--1687755659204-0.9573163719512416\r\n",
      "openmpi\t\t  yarn--1687755660332-0.006012616638098267\r\n",
      "package_list\t  yarn--1687755666484-0.773890063104473\r\n"
     ]
    }
   ],
   "source": [
    "!ls /tmp"
   ]
  },
  {
   "cell_type": "code",
   "execution_count": 4,
   "id": "5e84c28c",
   "metadata": {
    "execution": {
     "iopub.execute_input": "2023-10-18T11:20:18.366634Z",
     "iopub.status.busy": "2023-10-18T11:20:18.365971Z",
     "iopub.status.idle": "2023-10-18T11:20:18.370650Z",
     "shell.execute_reply": "2023-10-18T11:20:18.370019Z"
    },
    "papermill": {
     "duration": 0.010471,
     "end_time": "2023-10-18T11:20:18.372192",
     "exception": false,
     "start_time": "2023-10-18T11:20:18.361721",
     "status": "completed"
    },
    "tags": []
   },
   "outputs": [],
   "source": [
    "data = '''{\n",
    "  \"title\": \"ASR_CV15_Hindi_wav_16000\",\n",
    "  \"id\": \"SakshiRathi77/ASR_CV15_Hindi_wav_16000\",\n",
    "  \"licenses\": [\n",
    "    {\n",
    "      \"name\": \"CC0-1.0\"\n",
    "    }\n",
    "  ]\n",
    "}\n",
    "'''\n",
    "text_file = open(\"/tmp/CV15_ASR_dataset/dataset-metadata.json\", 'w+')\n",
    "n = text_file.write(data)\n",
    "text_file.close()"
   ]
  },
  {
   "cell_type": "markdown",
   "id": "c2bf04df",
   "metadata": {
    "papermill": {
     "duration": 0.00249,
     "end_time": "2023-10-18T11:20:18.377413",
     "exception": false,
     "start_time": "2023-10-18T11:20:18.374923",
     "status": "completed"
    },
    "tags": []
   },
   "source": [
    "# Providing root path and output path"
   ]
  },
  {
   "cell_type": "code",
   "execution_count": 5,
   "id": "29a70f19",
   "metadata": {
    "execution": {
     "iopub.execute_input": "2023-10-18T11:20:18.384124Z",
     "iopub.status.busy": "2023-10-18T11:20:18.383498Z",
     "iopub.status.idle": "2023-10-18T11:20:18.386933Z",
     "shell.execute_reply": "2023-10-18T11:20:18.386277Z"
    },
    "papermill": {
     "duration": 0.008266,
     "end_time": "2023-10-18T11:20:18.388321",
     "exception": false,
     "start_time": "2023-10-18T11:20:18.380055",
     "status": "completed"
    },
    "tags": []
   },
   "outputs": [],
   "source": [
    "\n",
    "ROOT_PATH = \"/kaggle/input/cv15-hindi/hi/hi/clips\"\n",
    "OUTPUT_DIR = \"/tmp/CV15_ASR_dataset/audio_wav_16000\""
   ]
  },
  {
   "cell_type": "code",
   "execution_count": 6,
   "id": "66d42820",
   "metadata": {
    "execution": {
     "iopub.execute_input": "2023-10-18T11:20:18.394701Z",
     "iopub.status.busy": "2023-10-18T11:20:18.394220Z",
     "iopub.status.idle": "2023-10-18T11:20:18.397410Z",
     "shell.execute_reply": "2023-10-18T11:20:18.396805Z"
    },
    "papermill": {
     "duration": 0.007763,
     "end_time": "2023-10-18T11:20:18.398752",
     "exception": false,
     "start_time": "2023-10-18T11:20:18.390989",
     "status": "completed"
    },
    "tags": []
   },
   "outputs": [],
   "source": [
    "os.mkdir(OUTPUT_DIR)"
   ]
  },
  {
   "cell_type": "markdown",
   "id": "cb9dd85f",
   "metadata": {
    "papermill": {
     "duration": 0.002351,
     "end_time": "2023-10-18T11:20:18.403591",
     "exception": false,
     "start_time": "2023-10-18T11:20:18.401240",
     "status": "completed"
    },
    "tags": []
   },
   "source": [
    "## Converting and Downsampling\n",
    "The save_fn function is responsible for converting MP3 audio files to WAV format, setting the frame rate to 16000 Hz, and saving the converted WAV files to the specified output directory."
   ]
  },
  {
   "cell_type": "code",
   "execution_count": 7,
   "id": "73731821",
   "metadata": {
    "execution": {
     "iopub.execute_input": "2023-10-18T11:20:18.409766Z",
     "iopub.status.busy": "2023-10-18T11:20:18.409321Z",
     "iopub.status.idle": "2023-10-18T11:20:18.413659Z",
     "shell.execute_reply": "2023-10-18T11:20:18.413005Z"
    },
    "papermill": {
     "duration": 0.008869,
     "end_time": "2023-10-18T11:20:18.415056",
     "exception": false,
     "start_time": "2023-10-18T11:20:18.406187",
     "status": "completed"
    },
    "tags": []
   },
   "outputs": [],
   "source": [
    "def save_fn(filename):\n",
    "    \n",
    "    path = f\"{ROOT_PATH}/{filename}\"\n",
    "    save_path = f\"{OUTPUT_DIR}\"\n",
    "    if not os.path.exists(save_path):\n",
    "        os.makedirs(save_path, exist_ok=True)\n",
    "    \n",
    "    if os.path.exists(path):\n",
    "        try:\n",
    "            sound = AudioSegment.from_mp3(path)\n",
    "            sound = sound.set_frame_rate(16000)\n",
    "            sound.export(f\"{save_path}/{filename[:-4]}.wav\", format=\"wav\")\n",
    "        except:\n",
    "            print(path)"
   ]
  },
  {
   "cell_type": "code",
   "execution_count": 8,
   "id": "5ee1b390",
   "metadata": {
    "execution": {
     "iopub.execute_input": "2023-10-18T11:20:18.421156Z",
     "iopub.status.busy": "2023-10-18T11:20:18.420728Z",
     "iopub.status.idle": "2023-10-18T11:20:20.102117Z",
     "shell.execute_reply": "2023-10-18T11:20:20.100892Z"
    },
    "papermill": {
     "duration": 1.687474,
     "end_time": "2023-10-18T11:20:20.105026",
     "exception": false,
     "start_time": "2023-10-18T11:20:18.417552",
     "status": "completed"
    },
    "tags": []
   },
   "outputs": [],
   "source": [
    "path = \"/kaggle/input/cv15-hindi/hi/hi/clips/\"\n",
    "audio_files = os.listdir(path)"
   ]
  },
  {
   "cell_type": "code",
   "execution_count": 9,
   "id": "07cb8711",
   "metadata": {
    "_kg_hide-output": true,
    "execution": {
     "iopub.execute_input": "2023-10-18T11:20:20.116949Z",
     "iopub.status.busy": "2023-10-18T11:20:20.116611Z",
     "iopub.status.idle": "2023-10-18T11:44:53.392745Z",
     "shell.execute_reply": "2023-10-18T11:44:53.391985Z"
    },
    "papermill": {
     "duration": 1473.283671,
     "end_time": "2023-10-18T11:44:53.394639",
     "exception": false,
     "start_time": "2023-10-18T11:20:20.110968",
     "status": "completed"
    },
    "tags": []
   },
   "outputs": [],
   "source": [
    "%%capture\n",
    "Parallel(n_jobs=8, backend=\"multiprocessing\")(\n",
    "    delayed(save_fn)(filename) for filename in tqdm(audio_files)\n",
    ")"
   ]
  },
  {
   "cell_type": "markdown",
   "id": "5c294459",
   "metadata": {
    "papermill": {
     "duration": 0.002557,
     "end_time": "2023-10-18T11:44:53.400211",
     "exception": false,
     "start_time": "2023-10-18T11:44:53.397654",
     "status": "completed"
    },
    "tags": []
   },
   "source": [
    "# Result stored in zip file"
   ]
  },
  {
   "cell_type": "code",
   "execution_count": 10,
   "id": "375bdb85",
   "metadata": {
    "_kg_hide-output": true,
    "execution": {
     "iopub.execute_input": "2023-10-18T11:44:53.406445Z",
     "iopub.status.busy": "2023-10-18T11:44:53.406191Z",
     "iopub.status.idle": "2023-10-18T11:46:57.269449Z",
     "shell.execute_reply": "2023-10-18T11:46:57.268421Z"
    },
    "papermill": {
     "duration": 123.868784,
     "end_time": "2023-10-18T11:46:57.271501",
     "exception": false,
     "start_time": "2023-10-18T11:44:53.402717",
     "status": "completed"
    },
    "tags": []
   },
   "outputs": [],
   "source": [
    "%%capture\n",
    "!zip -r \"./audio_wav_16000.zip\" \"/tmp/CV15_ASR_dataset/audio_wav_16000/\""
   ]
  }
 ],
 "metadata": {
  "kernelspec": {
   "display_name": "Python 3",
   "language": "python",
   "name": "python3"
  },
  "language_info": {
   "codemirror_mode": {
    "name": "ipython",
    "version": 3
   },
   "file_extension": ".py",
   "mimetype": "text/x-python",
   "name": "python",
   "nbconvert_exporter": "python",
   "pygments_lexer": "ipython3",
   "version": "3.10.12"
  },
  "papermill": {
   "default_parameters": {},
   "duration": 1607.160113,
   "end_time": "2023-10-18T11:46:59.896753",
   "environment_variables": {},
   "exception": null,
   "input_path": "__notebook__.ipynb",
   "output_path": "__notebook__.ipynb",
   "parameters": {},
   "start_time": "2023-10-18T11:20:12.736640",
   "version": "2.4.0"
  },
  "widgets": {
   "application/vnd.jupyter.widget-state+json": {
    "state": {
     "230ecf6bada642bfb0ae960f04ce9510": {
      "model_module": "@jupyter-widgets/controls",
      "model_module_version": "1.5.0",
      "model_name": "DescriptionStyleModel",
      "state": {
       "_model_module": "@jupyter-widgets/controls",
       "_model_module_version": "1.5.0",
       "_model_name": "DescriptionStyleModel",
       "_view_count": null,
       "_view_module": "@jupyter-widgets/base",
       "_view_module_version": "1.2.0",
       "_view_name": "StyleView",
       "description_width": ""
      }
     },
     "2c9caa1a300f4909afc50245eecdf09f": {
      "model_module": "@jupyter-widgets/controls",
      "model_module_version": "1.5.0",
      "model_name": "ProgressStyleModel",
      "state": {
       "_model_module": "@jupyter-widgets/controls",
       "_model_module_version": "1.5.0",
       "_model_name": "ProgressStyleModel",
       "_view_count": null,
       "_view_module": "@jupyter-widgets/base",
       "_view_module_version": "1.2.0",
       "_view_name": "StyleView",
       "bar_color": null,
       "description_width": ""
      }
     },
     "33d9067cb6354ce38249873b258b36ad": {
      "model_module": "@jupyter-widgets/controls",
      "model_module_version": "1.5.0",
      "model_name": "FloatProgressModel",
      "state": {
       "_dom_classes": [],
       "_model_module": "@jupyter-widgets/controls",
       "_model_module_version": "1.5.0",
       "_model_name": "FloatProgressModel",
       "_view_count": null,
       "_view_module": "@jupyter-widgets/controls",
       "_view_module_version": "1.5.0",
       "_view_name": "ProgressView",
       "bar_style": "success",
       "description": "",
       "description_tooltip": null,
       "layout": "IPY_MODEL_37d4de0bad1c45c2ae7f5fc5acccc6cb",
       "max": 14697.0,
       "min": 0.0,
       "orientation": "horizontal",
       "style": "IPY_MODEL_2c9caa1a300f4909afc50245eecdf09f",
       "value": 14697.0
      }
     },
     "37d4de0bad1c45c2ae7f5fc5acccc6cb": {
      "model_module": "@jupyter-widgets/base",
      "model_module_version": "1.2.0",
      "model_name": "LayoutModel",
      "state": {
       "_model_module": "@jupyter-widgets/base",
       "_model_module_version": "1.2.0",
       "_model_name": "LayoutModel",
       "_view_count": null,
       "_view_module": "@jupyter-widgets/base",
       "_view_module_version": "1.2.0",
       "_view_name": "LayoutView",
       "align_content": null,
       "align_items": null,
       "align_self": null,
       "border": null,
       "bottom": null,
       "display": null,
       "flex": null,
       "flex_flow": null,
       "grid_area": null,
       "grid_auto_columns": null,
       "grid_auto_flow": null,
       "grid_auto_rows": null,
       "grid_column": null,
       "grid_gap": null,
       "grid_row": null,
       "grid_template_areas": null,
       "grid_template_columns": null,
       "grid_template_rows": null,
       "height": null,
       "justify_content": null,
       "justify_items": null,
       "left": null,
       "margin": null,
       "max_height": null,
       "max_width": null,
       "min_height": null,
       "min_width": null,
       "object_fit": null,
       "object_position": null,
       "order": null,
       "overflow": null,
       "overflow_x": null,
       "overflow_y": null,
       "padding": null,
       "right": null,
       "top": null,
       "visibility": null,
       "width": null
      }
     },
     "5b2562e755fd45adade8825817c2fbd0": {
      "model_module": "@jupyter-widgets/controls",
      "model_module_version": "1.5.0",
      "model_name": "HTMLModel",
      "state": {
       "_dom_classes": [],
       "_model_module": "@jupyter-widgets/controls",
       "_model_module_version": "1.5.0",
       "_model_name": "HTMLModel",
       "_view_count": null,
       "_view_module": "@jupyter-widgets/controls",
       "_view_module_version": "1.5.0",
       "_view_name": "HTMLView",
       "description": "",
       "description_tooltip": null,
       "layout": "IPY_MODEL_7885de5afe62419da0380e2367b04eb1",
       "placeholder": "​",
       "style": "IPY_MODEL_230ecf6bada642bfb0ae960f04ce9510",
       "value": "100%"
      }
     },
     "5e8d3a4126b04ab8b234fef885119c59": {
      "model_module": "@jupyter-widgets/controls",
      "model_module_version": "1.5.0",
      "model_name": "HTMLModel",
      "state": {
       "_dom_classes": [],
       "_model_module": "@jupyter-widgets/controls",
       "_model_module_version": "1.5.0",
       "_model_name": "HTMLModel",
       "_view_count": null,
       "_view_module": "@jupyter-widgets/controls",
       "_view_module_version": "1.5.0",
       "_view_name": "HTMLView",
       "description": "",
       "description_tooltip": null,
       "layout": "IPY_MODEL_e783810823a44b8e9295fbcff99fa0ee",
       "placeholder": "​",
       "style": "IPY_MODEL_852981b697544ef4b74347263e40fb72",
       "value": " 14697/14697 [24:31&lt;00:00, 10.12it/s]"
      }
     },
     "7885de5afe62419da0380e2367b04eb1": {
      "model_module": "@jupyter-widgets/base",
      "model_module_version": "1.2.0",
      "model_name": "LayoutModel",
      "state": {
       "_model_module": "@jupyter-widgets/base",
       "_model_module_version": "1.2.0",
       "_model_name": "LayoutModel",
       "_view_count": null,
       "_view_module": "@jupyter-widgets/base",
       "_view_module_version": "1.2.0",
       "_view_name": "LayoutView",
       "align_content": null,
       "align_items": null,
       "align_self": null,
       "border": null,
       "bottom": null,
       "display": null,
       "flex": null,
       "flex_flow": null,
       "grid_area": null,
       "grid_auto_columns": null,
       "grid_auto_flow": null,
       "grid_auto_rows": null,
       "grid_column": null,
       "grid_gap": null,
       "grid_row": null,
       "grid_template_areas": null,
       "grid_template_columns": null,
       "grid_template_rows": null,
       "height": null,
       "justify_content": null,
       "justify_items": null,
       "left": null,
       "margin": null,
       "max_height": null,
       "max_width": null,
       "min_height": null,
       "min_width": null,
       "object_fit": null,
       "object_position": null,
       "order": null,
       "overflow": null,
       "overflow_x": null,
       "overflow_y": null,
       "padding": null,
       "right": null,
       "top": null,
       "visibility": null,
       "width": null
      }
     },
     "852981b697544ef4b74347263e40fb72": {
      "model_module": "@jupyter-widgets/controls",
      "model_module_version": "1.5.0",
      "model_name": "DescriptionStyleModel",
      "state": {
       "_model_module": "@jupyter-widgets/controls",
       "_model_module_version": "1.5.0",
       "_model_name": "DescriptionStyleModel",
       "_view_count": null,
       "_view_module": "@jupyter-widgets/base",
       "_view_module_version": "1.2.0",
       "_view_name": "StyleView",
       "description_width": ""
      }
     },
     "ac82e65db3e94baebda5876337e8ebe2": {
      "model_module": "@jupyter-widgets/base",
      "model_module_version": "1.2.0",
      "model_name": "LayoutModel",
      "state": {
       "_model_module": "@jupyter-widgets/base",
       "_model_module_version": "1.2.0",
       "_model_name": "LayoutModel",
       "_view_count": null,
       "_view_module": "@jupyter-widgets/base",
       "_view_module_version": "1.2.0",
       "_view_name": "LayoutView",
       "align_content": null,
       "align_items": null,
       "align_self": null,
       "border": null,
       "bottom": null,
       "display": null,
       "flex": null,
       "flex_flow": null,
       "grid_area": null,
       "grid_auto_columns": null,
       "grid_auto_flow": null,
       "grid_auto_rows": null,
       "grid_column": null,
       "grid_gap": null,
       "grid_row": null,
       "grid_template_areas": null,
       "grid_template_columns": null,
       "grid_template_rows": null,
       "height": null,
       "justify_content": null,
       "justify_items": null,
       "left": null,
       "margin": null,
       "max_height": null,
       "max_width": null,
       "min_height": null,
       "min_width": null,
       "object_fit": null,
       "object_position": null,
       "order": null,
       "overflow": null,
       "overflow_x": null,
       "overflow_y": null,
       "padding": null,
       "right": null,
       "top": null,
       "visibility": null,
       "width": null
      }
     },
     "ce5fb25f9f5b47e3917510e5d55de233": {
      "model_module": "@jupyter-widgets/controls",
      "model_module_version": "1.5.0",
      "model_name": "HBoxModel",
      "state": {
       "_dom_classes": [],
       "_model_module": "@jupyter-widgets/controls",
       "_model_module_version": "1.5.0",
       "_model_name": "HBoxModel",
       "_view_count": null,
       "_view_module": "@jupyter-widgets/controls",
       "_view_module_version": "1.5.0",
       "_view_name": "HBoxView",
       "box_style": "",
       "children": [
        "IPY_MODEL_5b2562e755fd45adade8825817c2fbd0",
        "IPY_MODEL_33d9067cb6354ce38249873b258b36ad",
        "IPY_MODEL_5e8d3a4126b04ab8b234fef885119c59"
       ],
       "layout": "IPY_MODEL_ac82e65db3e94baebda5876337e8ebe2"
      }
     },
     "e783810823a44b8e9295fbcff99fa0ee": {
      "model_module": "@jupyter-widgets/base",
      "model_module_version": "1.2.0",
      "model_name": "LayoutModel",
      "state": {
       "_model_module": "@jupyter-widgets/base",
       "_model_module_version": "1.2.0",
       "_model_name": "LayoutModel",
       "_view_count": null,
       "_view_module": "@jupyter-widgets/base",
       "_view_module_version": "1.2.0",
       "_view_name": "LayoutView",
       "align_content": null,
       "align_items": null,
       "align_self": null,
       "border": null,
       "bottom": null,
       "display": null,
       "flex": null,
       "flex_flow": null,
       "grid_area": null,
       "grid_auto_columns": null,
       "grid_auto_flow": null,
       "grid_auto_rows": null,
       "grid_column": null,
       "grid_gap": null,
       "grid_row": null,
       "grid_template_areas": null,
       "grid_template_columns": null,
       "grid_template_rows": null,
       "height": null,
       "justify_content": null,
       "justify_items": null,
       "left": null,
       "margin": null,
       "max_height": null,
       "max_width": null,
       "min_height": null,
       "min_width": null,
       "object_fit": null,
       "object_position": null,
       "order": null,
       "overflow": null,
       "overflow_x": null,
       "overflow_y": null,
       "padding": null,
       "right": null,
       "top": null,
       "visibility": null,
       "width": null
      }
     }
    },
    "version_major": 2,
    "version_minor": 0
   }
  }
 },
 "nbformat": 4,
 "nbformat_minor": 5
}
